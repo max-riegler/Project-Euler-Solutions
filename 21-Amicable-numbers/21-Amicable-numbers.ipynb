{
 "cells": [
  {
   "cell_type": "code",
   "execution_count": 26,
   "id": "ed1bdd65-8ba6-4a42-a902-c0260754036a",
   "metadata": {},
   "outputs": [
    {
     "name": "stdout",
     "output_type": "stream",
     "text": [
      "220 284\n",
      "284 220\n",
      "1184 1210\n",
      "1210 1184\n",
      "2620 2924\n",
      "2924 2620\n",
      "5020 5564\n",
      "5564 5020\n",
      "6232 6368\n",
      "6368 6232\n",
      "31626\n"
     ]
    }
   ],
   "source": [
    "# Define divisor function\n",
    "def divisor(n):\n",
    "    dummy = []\n",
    "    for i in range(1,n // 2 + 1):\n",
    "        if n % i == 0:\n",
    "            dummy.append(i)\n",
    "    return dummy\n",
    "\n",
    "# Sum of divisors\n",
    "def d(n):\n",
    "    return sum(divisor(n))\n",
    "\n",
    "dummy = 0\n",
    "for i in range(200,10000):\n",
    "    if d(d(i)) == i and d(i) != i:\n",
    "        dummy += i\n",
    "        print(i,d(i))\n",
    "\n",
    "print(dummy)\n"
   ]
  }
 ],
 "metadata": {
  "kernelspec": {
   "display_name": "Python 3 (ipykernel)",
   "language": "python",
   "name": "python3"
  },
  "language_info": {
   "codemirror_mode": {
    "name": "ipython",
    "version": 3
   },
   "file_extension": ".py",
   "mimetype": "text/x-python",
   "name": "python",
   "nbconvert_exporter": "python",
   "pygments_lexer": "ipython3",
   "version": "3.10.4"
  }
 },
 "nbformat": 4,
 "nbformat_minor": 5
}
