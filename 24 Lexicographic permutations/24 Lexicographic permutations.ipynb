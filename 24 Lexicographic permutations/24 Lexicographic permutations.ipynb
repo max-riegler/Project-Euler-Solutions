{
 "cells": [
  {
   "cell_type": "code",
   "execution_count": 8,
   "id": "d548bd2c-f6d1-4eb8-b62c-6921b0646ca5",
   "metadata": {},
   "outputs": [
    {
     "name": "stdout",
     "output_type": "stream",
     "text": [
      "(2, 7, 8, 3, 9, 1, 5, 4, 6, 0)\n"
     ]
    }
   ],
   "source": [
    "# A Python program to print all\n",
    "# permutations using library function\n",
    "from itertools import permutations\n",
    " \n",
    "# Get all permutations of [1, 2, 3]\n",
    "perm = permutations([0, 1, 2, 3, 4, 5, 6, 7, 8, 9])\n",
    " \n",
    "# Print the 1000000th term permutations\n",
    "\n",
    "i = 0\n",
    "\n",
    "for p in perm:\n",
    "    if i == 999999:\n",
    "        print(p)\n",
    "        break\n",
    "    i += 1"
   ]
  }
 ],
 "metadata": {
  "kernelspec": {
   "display_name": "Python 3 (ipykernel)",
   "language": "python",
   "name": "python3"
  },
  "language_info": {
   "codemirror_mode": {
    "name": "ipython",
    "version": 3
   },
   "file_extension": ".py",
   "mimetype": "text/x-python",
   "name": "python",
   "nbconvert_exporter": "python",
   "pygments_lexer": "ipython3",
   "version": "3.10.4"
  }
 },
 "nbformat": 4,
 "nbformat_minor": 5
}
