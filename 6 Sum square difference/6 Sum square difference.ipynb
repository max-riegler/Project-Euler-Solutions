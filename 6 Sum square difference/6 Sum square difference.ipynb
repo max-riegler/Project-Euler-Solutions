{
 "cells": [
  {
   "cell_type": "code",
   "execution_count": 7,
   "id": "01da379c-a0b5-45a4-b94c-7fac2bd99e21",
   "metadata": {},
   "outputs": [
    {
     "name": "stdout",
     "output_type": "stream",
     "text": [
      "338350\n",
      "25502500\n",
      "25164150\n"
     ]
    }
   ],
   "source": [
    "def sq_sum(a,b):\n",
    "    Sum = 0\n",
    "    for i in range(a,b + 1):\n",
    "        Sum = Sum + i ** 2\n",
    "    return Sum\n",
    "\n",
    "def sum_sq(a,b):\n",
    "    Sum = 0\n",
    "    for i in range(a,b + 1):\n",
    "        Sum = Sum + i\n",
    "    return Sum ** 2\n",
    "\n",
    "print(sq_sum(1,100))\n",
    "print(sum_sq(1,100))\n",
    "print(sum_sq(1,100) - sq_sum(1,100))"
   ]
  }
 ],
 "metadata": {
  "kernelspec": {
   "display_name": "Python 3 (ipykernel)",
   "language": "python",
   "name": "python3"
  },
  "language_info": {
   "codemirror_mode": {
    "name": "ipython",
    "version": 3
   },
   "file_extension": ".py",
   "mimetype": "text/x-python",
   "name": "python",
   "nbconvert_exporter": "python",
   "pygments_lexer": "ipython3",
   "version": "3.10.4"
  }
 },
 "nbformat": 4,
 "nbformat_minor": 5
}
