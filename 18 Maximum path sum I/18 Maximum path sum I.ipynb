{
 "cells": [
  {
   "cell_type": "code",
   "execution_count": 60,
   "id": "c8bc7d62-a701-466b-8265-4624e9c3ae19",
   "metadata": {},
   "outputs": [
    {
     "name": "stdout",
     "output_type": "stream",
     "text": [
      "1074\n"
     ]
    }
   ],
   "source": [
    "# Using \"with\" takes care of opening and closing the file. Using this syntax reads the file line by line, splits along whitespaces and\n",
    "# stores everything as integers\n",
    "with open(\"input_18.txt\") as raw_triangle:\n",
    "     triangle = [[int(x) for x in line.split()] for line in raw_triangle]\n",
    "\n",
    "# Here the idea is to split the big triangle into lots of small triangles containing three numbers. \n",
    "# Starting from the lowest row compute the maximum sum of e.g. the entry [2][0] with [3][0] and [3][1] and then replace [2][0] with the\n",
    "# maximum of that sum. Do that for all entries in that row and then move up one collumn until you have reached the end f the pyramid.\n",
    "\n",
    "for n in range(len(triangle) - 2,-1,-1):\n",
    "    for m in range(n + 1):\n",
    "        triangle[n][m] = max(triangle[n][m] + triangle[n + 1][m],triangle[n][m] + triangle[n + 1][m + 1])\n",
    "    \n",
    "print(triangle[0][0])"
   ]
  }
 ],
 "metadata": {
  "kernelspec": {
   "display_name": "Python 3 (ipykernel)",
   "language": "python",
   "name": "python3"
  },
  "language_info": {
   "codemirror_mode": {
    "name": "ipython",
    "version": 3
   },
   "file_extension": ".py",
   "mimetype": "text/x-python",
   "name": "python",
   "nbconvert_exporter": "python",
   "pygments_lexer": "ipython3",
   "version": "3.10.4"
  }
 },
 "nbformat": 4,
 "nbformat_minor": 5
}
