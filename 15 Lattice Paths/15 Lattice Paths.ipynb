{
 "cells": [
  {
   "cell_type": "code",
   "execution_count": 19,
   "id": "221fa151-b69d-4365-9b81-61f2c53aebe1",
   "metadata": {},
   "outputs": [
    {
     "name": "stdout",
     "output_type": "stream",
     "text": [
      "137846528820\n"
     ]
    }
   ],
   "source": [
    "# Problem can be effectively rephrased in terms of combinatorics. First, observe that the problem is rotational invariant i.e. r -> r -> d -> d == d -> d -> r -> r\n",
    "# so we only have to compute half of all the permutations. let r = 1 and d = 0 then we can represent all the basic permutations as e.g.\n",
    "# n = 1: 1 0\n",
    "# n = 2: 1 1 0 0\n",
    "#        1 0 1 0\n",
    "#        1 0 0 1\n",
    "# etc. Observe that we can simply ignore the first operation so for n = 2 we are basically left with determining all the ways we can choose 1 identical object out\n",
    "# of 3 slots which is given by the binomial coefficient 3 over 1. For general n we have 2n - 1 over n -1 choices\n",
    "\n",
    "# Define factorial function\n",
    "def factorial(n):\n",
    "    if n == 0:\n",
    "        return 1\n",
    "    for i in range(1,n):\n",
    "        n *= i\n",
    "    return n\n",
    "\n",
    "# Define binomial function\n",
    "def binomial(n,k):\n",
    "    return factorial(n) // (factorial(k) * factorial(n - k)) \n",
    "\n",
    "# Define number of paths\n",
    "def paths(n):\n",
    "    return 2 * binomial(2 * n -1,n - 1)\n",
    "\n",
    "print(paths(20))"
   ]
  }
 ],
 "metadata": {
  "kernelspec": {
   "display_name": "Python 3 (ipykernel)",
   "language": "python",
   "name": "python3"
  },
  "language_info": {
   "codemirror_mode": {
    "name": "ipython",
    "version": 3
   },
   "file_extension": ".py",
   "mimetype": "text/x-python",
   "name": "python",
   "nbconvert_exporter": "python",
   "pygments_lexer": "ipython3",
   "version": "3.10.4"
  }
 },
 "nbformat": 4,
 "nbformat_minor": 5
}
