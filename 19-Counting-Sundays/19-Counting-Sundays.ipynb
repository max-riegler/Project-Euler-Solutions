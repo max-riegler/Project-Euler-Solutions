{
 "cells": [
  {
   "cell_type": "code",
   "execution_count": 53,
   "id": "f230b796-1e43-48fb-8d40-d187b60e9a7a",
   "metadata": {},
   "outputs": [
    {
     "name": "stdout",
     "output_type": "stream",
     "text": [
      "171\n"
     ]
    }
   ],
   "source": [
    "day_name = [\"Monday\", \"Tuesday\", \"Wednesday\", \"Thursday\", \"Friday\", \"Saturday\", \"Sunday\"]\n",
    "\n",
    "# The following two lists keep track of the shift in weekdays for each montch\n",
    "no_leap_year = [3,0,3,2,3,2,3,3,2,3,2,3]\n",
    "leap_year = [3,1,3,2,3,2,3,3,2,3,2,3]\n",
    "\n",
    "# Check for leap years\n",
    "def check_leap(y):\n",
    "    if y % 4 == 0 and y % 100 != 0:\n",
    "        return True\n",
    "    elif y % 100 == 0 and y % 400 == 0:\n",
    "        return True\n",
    "    else:\n",
    "        return False\n",
    "\n",
    "# Important point: 1901/1/1 was a Tuesday! So the algorithm has to start from there!    \n",
    "year = 1901\n",
    "dummy_m = 1\n",
    "counter = 0\n",
    "\n",
    "while year <= 2000:\n",
    "    if check_leap(year):\n",
    "        for m in leap_year:\n",
    "            if day_name[dummy_m % 7] == \"Sunday\":\n",
    "                counter += 1\n",
    "            dummy_m += m\n",
    "    if not check_leap(year):\n",
    "        for m in no_leap_year:\n",
    "            if day_name[dummy_m % 7] == \"Sunday\":\n",
    "                counter += 1\n",
    "            dummy_m += m\n",
    "    year += 1\n",
    "\n",
    "print(counter)"
   ]
  }
 ],
 "metadata": {
  "kernelspec": {
   "display_name": "Python 3 (ipykernel)",
   "language": "python",
   "name": "python3"
  },
  "language_info": {
   "codemirror_mode": {
    "name": "ipython",
    "version": 3
   },
   "file_extension": ".py",
   "mimetype": "text/x-python",
   "name": "python",
   "nbconvert_exporter": "python",
   "pygments_lexer": "ipython3",
   "version": "3.10.4"
  }
 },
 "nbformat": 4,
 "nbformat_minor": 5
}
