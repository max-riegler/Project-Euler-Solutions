{
 "cells": [
  {
   "cell_type": "code",
   "execution_count": 74,
   "id": "2f3afb2d-3772-4b5b-83ac-8f448bde817f",
   "metadata": {},
   "outputs": [
    {
     "name": "stdout",
     "output_type": "stream",
     "text": [
      "21124\n"
     ]
    }
   ],
   "source": [
    "# Create a basic dictionary where each key is a number and each value is the number of letters of the numer\n",
    "num_let = {1 : 3, 2 : 3, 3 : 5, 4 : 4, 5 : 4, 6 : 3, 7 : 5, 8 : 5, 9 : 4, 10 : 3, 11 : 6, 12 : 6, 13 : 8, 14 : 8, 15 : 7, 16: 7, 17 : 9, 18 : 8, 19 : 8, 20 : 6 , 30 : 6, 40 : 5, 50 : 5, 60 : 5, 70 : 7, 80 : 6, 90 : 6, 100 : 10, 200 : 10, 300 : 12, 400 : 11, 500 : 11, 600 : 10, 700 : 12, 800 : 12, 900 : 11, 1000 : 11}\n",
    "\n",
    "# Fill in the dictionary up until 1000\n",
    "for i in range(1,1000):\n",
    "    if i in num_let:\n",
    "        continue\n",
    "    if i < 100:    \n",
    "        num_let[i] = num_let[i - (i % 10)] + num_let[i % 10]\n",
    "    if i > 100:\n",
    "        num_let[i] = num_let[i - (i % 100)] + 3 + num_let[i % 100]\n",
    "\n",
    "# Sum all entries\n",
    "counter = 0\n",
    "\n",
    "for i in num_let:\n",
    "    counter += num_let[i]\n",
    "    \n",
    "print(counter)"
   ]
  }
 ],
 "metadata": {
  "kernelspec": {
   "display_name": "Python 3 (ipykernel)",
   "language": "python",
   "name": "python3"
  },
  "language_info": {
   "codemirror_mode": {
    "name": "ipython",
    "version": 3
   },
   "file_extension": ".py",
   "mimetype": "text/x-python",
   "name": "python",
   "nbconvert_exporter": "python",
   "pygments_lexer": "ipython3",
   "version": "3.10.4"
  }
 },
 "nbformat": 4,
 "nbformat_minor": 5
}
