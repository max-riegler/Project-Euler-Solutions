{
 "cells": [
  {
   "cell_type": "code",
   "execution_count": 7,
   "id": "5607b68c-3800-4f56-b46f-17dcfe18191b",
   "metadata": {},
   "outputs": [
    {
     "name": "stdout",
     "output_type": "stream",
     "text": [
      "871198282\n"
     ]
    }
   ],
   "source": [
    "with open(\"p022_names.txt\") as raw_names:\n",
    "     names = raw_names.read().split(\",\")\n",
    "\n",
    "clean_names = []\n",
    "for i in range(len(names)):\n",
    "    clean_names.append(names[i].replace(\"\\\"\",\"\").lower())\n",
    "    \n",
    "sorted_names = sorted(clean_names)\n",
    "\n",
    "def al_value(n):\n",
    "    return sum([ord(x) - 96 for x in n])\n",
    "\n",
    "result = 0\n",
    "\n",
    "for i in sorted_names:\n",
    "    result += al_value(i) * (sorted_names.index(i) + 1)\n",
    "    \n",
    "print(result)\n",
    "    "
   ]
  }
 ],
 "metadata": {
  "kernelspec": {
   "display_name": "Python 3 (ipykernel)",
   "language": "python",
   "name": "python3"
  },
  "language_info": {
   "codemirror_mode": {
    "name": "ipython",
    "version": 3
   },
   "file_extension": ".py",
   "mimetype": "text/x-python",
   "name": "python",
   "nbconvert_exporter": "python",
   "pygments_lexer": "ipython3",
   "version": "3.10.4"
  }
 },
 "nbformat": 4,
 "nbformat_minor": 5
}
