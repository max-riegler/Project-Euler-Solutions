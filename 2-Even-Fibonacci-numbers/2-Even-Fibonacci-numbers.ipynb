{
 "cells": [
  {
   "cell_type": "code",
   "execution_count": 46,
   "id": "3811907a-0a59-4c74-820a-92fe8ae4c9fb",
   "metadata": {},
   "outputs": [
    {
     "name": "stdout",
     "output_type": "stream",
     "text": [
      "4613732\n"
     ]
    }
   ],
   "source": [
    "def fib(n):\n",
    "    a, b = 1, 1\n",
    "    counter = 0\n",
    "    while counter < n:\n",
    "        a, b = b, a + b\n",
    "        counter += 1\n",
    "    return b\n",
    "\n",
    "n = 0\n",
    "a = 0\n",
    "\n",
    "while fib(a) <= 4000000:\n",
    "    if fib(a) % 2 == 0:\n",
    "        n = n + fib(a)\n",
    "        a += 1\n",
    "    else:\n",
    "        a += 1\n",
    "\n",
    "print(n)"
   ]
  }
 ],
 "metadata": {
  "kernelspec": {
   "display_name": "Python 3 (ipykernel)",
   "language": "python",
   "name": "python3"
  },
  "language_info": {
   "codemirror_mode": {
    "name": "ipython",
    "version": 3
   },
   "file_extension": ".py",
   "mimetype": "text/x-python",
   "name": "python",
   "nbconvert_exporter": "python",
   "pygments_lexer": "ipython3",
   "version": "3.10.4"
  }
 },
 "nbformat": 4,
 "nbformat_minor": 5
}
