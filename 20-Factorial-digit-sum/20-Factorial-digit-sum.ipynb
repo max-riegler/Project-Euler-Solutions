{
 "cells": [
  {
   "cell_type": "code",
   "execution_count": 4,
   "id": "6fe7b602-04cd-4f3c-9b47-382efc56c964",
   "metadata": {},
   "outputs": [
    {
     "name": "stdout",
     "output_type": "stream",
     "text": [
      "648\n"
     ]
    }
   ],
   "source": [
    "# Define factorial function\n",
    "def factorial(n):\n",
    "    if n == 0:\n",
    "        return 1\n",
    "    for i in range(1,n):\n",
    "        n *= i\n",
    "    return n\n",
    "\n",
    "num = factorial(100)\n",
    "\n",
    "# Converts number to a list of strings\n",
    "num_list = list(str(num))\n",
    "num_sum= 0\n",
    "\n",
    "for i in range(len(num_list)):\n",
    "    num_sum += int(num_list[i])\n",
    "\n",
    "print(num_sum)"
   ]
  }
 ],
 "metadata": {
  "kernelspec": {
   "display_name": "Python 3 (ipykernel)",
   "language": "python",
   "name": "python3"
  },
  "language_info": {
   "codemirror_mode": {
    "name": "ipython",
    "version": 3
   },
   "file_extension": ".py",
   "mimetype": "text/x-python",
   "name": "python",
   "nbconvert_exporter": "python",
   "pygments_lexer": "ipython3",
   "version": "3.10.4"
  }
 },
 "nbformat": 4,
 "nbformat_minor": 5
}
