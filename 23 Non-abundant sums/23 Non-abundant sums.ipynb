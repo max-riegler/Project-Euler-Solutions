{
 "cells": [
  {
   "cell_type": "code",
   "execution_count": 3,
   "id": "daf1af00-a65d-4cbb-8612-cc8e007c3438",
   "metadata": {},
   "outputs": [
    {
     "name": "stdout",
     "output_type": "stream",
     "text": [
      "4179871\n"
     ]
    }
   ],
   "source": [
    "# Define divisor function\n",
    "def divisor(n):\n",
    "    dummy = []\n",
    "    for i in range(1,n // 2 + 1):\n",
    "        if n % i == 0:\n",
    "            dummy.append(i)\n",
    "    return dummy\n",
    "\n",
    "# Define sum of divisors\n",
    "def d(n):\n",
    "    return sum(divisor(n))\n",
    "\n",
    "def abundant_check(n):\n",
    "    if d(n) > n:\n",
    "        return True\n",
    "    else:\n",
    "        return False\n",
    "\n",
    "def gen_abundant():\n",
    "    \"\"\" Generate an infinite sequence of abundant numbers.\n",
    "    \"\"\"\n",
    "    \n",
    "    # The running integer that's checked for abundance\n",
    "    q = 12\n",
    "    \n",
    "    while True:\n",
    "        if d(q) > q:\n",
    "            # q is a abundant number.\n",
    "            # Yield it \n",
    "            yield q        \n",
    "        q += 1\n",
    "\n",
    "def sum_check(n):\n",
    "    if n < 24:\n",
    "        return False\n",
    "    for p in gen_abundant():\n",
    "        if p > n:\n",
    "            return False\n",
    "        elif abundant_check(n - p):\n",
    "            return True\n",
    "\n",
    "# Generate all abundant numbers until 20161        \n",
    "abundant = []\n",
    "\n",
    "for p in gen_abundant():\n",
    "    if p > 20161:\n",
    "        break\n",
    "    abundant.append(p)\n",
    "\n",
    "sums = [0]*20162\n",
    "for x in range (0, len(abundant)):\n",
    "    for y in range (x, len(abundant)):\n",
    "            sumOf2AbundantNums = abundant[x]+abundant[y]\n",
    "            if (sumOf2AbundantNums<= 20161):\n",
    "                if (sums[sumOf2AbundantNums] == 0):\n",
    "                    sums[sumOf2AbundantNums] = sumOf2AbundantNums\n",
    "            \n",
    "total = 0\n",
    "for x in range (1,len(sums)):\n",
    "    if (sums[x] == 0):\n",
    "        total +=x\n",
    "\n",
    "print(total)"
   ]
  }
 ],
 "metadata": {
  "kernelspec": {
   "display_name": "Python 3 (ipykernel)",
   "language": "python",
   "name": "python3"
  },
  "language_info": {
   "codemirror_mode": {
    "name": "ipython",
    "version": 3
   },
   "file_extension": ".py",
   "mimetype": "text/x-python",
   "name": "python",
   "nbconvert_exporter": "python",
   "pygments_lexer": "ipython3",
   "version": "3.10.4"
  }
 },
 "nbformat": 4,
 "nbformat_minor": 5
}
