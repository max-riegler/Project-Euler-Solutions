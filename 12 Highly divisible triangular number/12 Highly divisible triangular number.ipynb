{
 "cells": [
  {
   "cell_type": "code",
   "execution_count": 21,
   "id": "0c3faf6c-8ea0-4cd0-924d-04bad7e03991",
   "metadata": {},
   "outputs": [
    {
     "name": "stdout",
     "output_type": "stream",
     "text": [
      "20000 200010000 200\n"
     ]
    }
   ],
   "source": [
    "# First find smallest number with 500 divisors\n",
    "# Use prime number decomposition theorem\n",
    "# 500 = 2 x 2 x 5 x 5 x 5\n",
    "# Thus 2^4 3^4 5^4 7 11 = 62370000 is the smallest number with 500 divisors\n",
    "\n",
    "def triangle(n):\n",
    "    return n * (n + 1) // 2\n",
    "\n",
    "def div_no(n):\n",
    "    counter = 1\n",
    "    for i in range(1,(n // 2) + 1):\n",
    "        if n % i == 0:\n",
    "            counter += 1\n",
    "    return counter\n",
    "\n",
    "n = 20000\n",
    "\n",
    "#while triangle(n) <= 62370000:\n",
    "#    n += 1\n",
    "\n",
    "#while div_no(triangle(n)) <= 500:\n",
    "#    n += 1\n",
    "    \n",
    "print(n,triangle(n), div_no(triangle(n)))"
   ]
  },
  {
   "cell_type": "code",
   "execution_count": 25,
   "id": "1ba38ff0-2bcd-4a9a-8fdc-b904ef9c2970",
   "metadata": {},
   "outputs": [
    {
     "name": "stdout",
     "output_type": "stream",
     "text": [
      "76576500\n"
     ]
    }
   ],
   "source": [
    "def f(L, nMax=45000):\n",
    "    d = [0]*nMax\n",
    "    for n in range(1, nMax):\n",
    "        for j in range(n, nMax, n):\n",
    "            d[j]+= 1\n",
    "        nDiv = d[n-1]*d[n//2] if n%2==0 else d[(n-1)//2]*d[n]\n",
    "        if nDiv > L: return (n-1)*n//2\n",
    "#for _ in range(int(input())):\n",
    "#    print (f(int(input())))\n",
    "print(f(500))"
   ]
  },
  {
   "cell_type": "code",
   "execution_count": 35,
   "id": "d906853e-8d86-4894-add2-1685008d27d9",
   "metadata": {},
   "outputs": [
    {
     "name": "stdout",
     "output_type": "stream",
     "text": [
      "12375 76576500\n"
     ]
    }
   ],
   "source": [
    "# Sieve of Eratosthenes\n",
    "# Code by David Eppstein, UC Irvine, 28 Feb 2002\n",
    "# http://code.activestate.com/recipes/117119/\n",
    "\n",
    "def gen_primes():\n",
    "    \"\"\" Generate an infinite sequence of prime numbers.\n",
    "    \"\"\"\n",
    "    # Maps composites to primes witnessing their compositeness.\n",
    "    # This is memory efficient, as the sieve is not \"run forward\"\n",
    "    # indefinitely, but only as long as required by the current\n",
    "    # number being tested.\n",
    "    \n",
    "    # Define an empty dictionary\n",
    "    D = {}\n",
    "    \n",
    "    # The running integer that's checked for primeness\n",
    "    q = 2\n",
    "    \n",
    "    while True:\n",
    "        if q not in D:\n",
    "            # q is a new prime.\n",
    "            # Yield it and mark its first multiple that isn't\n",
    "            # already marked in previous iterations\n",
    "            # \n",
    "            yield q\n",
    "            D[q * q] = [q]\n",
    "        else:\n",
    "            # q is composite. D[q] is the list of primes that\n",
    "            # divide it. Since we've reached q, we no longer\n",
    "            # need it in the map, but we'll mark the next \n",
    "            # multiples of its witnesses to prepare for larger\n",
    "            # numbers\n",
    "            # \n",
    "            for p in D[q]:\n",
    "                D.setdefault(p + q, []).append(p)\n",
    "            del D[q]\n",
    "        \n",
    "        q += 1\n",
    "# Code by David Eppstein, UC Irvine, 28 Feb 2002\n",
    "# http://code.activestate.com/recipes/117119/\n",
    "\n",
    "# Efficient definition of triangle numbers\n",
    "def triangle(n):\n",
    "    return n * (n + 1) // 2\n",
    "\n",
    "# Prime factorization and then counting the powers of each prime factor. Each prime factor q^n contributes (n+1) divisors, so the total number is (n+1)(m+1)...(z+1)\n",
    "def N_divisors(n):\n",
    "    dummy_list = []\n",
    "    counter = 0\n",
    "    N = 1\n",
    "    for p in gen_primes():\n",
    "        if n == 1:\n",
    "            dummy_list.append(counter + 1)\n",
    "            break\n",
    "        if p == n:\n",
    "            counter += 1\n",
    "            dummy_list.append(counter + 1)\n",
    "            break\n",
    "        while True:\n",
    "            if n % p == 0:\n",
    "                n = n // p\n",
    "                counter += 1\n",
    "            if n % p != 0:\n",
    "                if counter != 0:\n",
    "                    dummy_list.append(counter + 1)\n",
    "                counter = 0\n",
    "                break\n",
    "    for i in dummy_list:\n",
    "        N *= i\n",
    "    return(N)\n",
    "\n",
    "def T_div(n):\n",
    "    if n % 2 == 0:\n",
    "        return N_divisors(n // 2) * N_divisors(n + 1)\n",
    "    if n % 2 != 0:\n",
    "        return N_divisors(n) * N_divisors((n + 1) // 2)\n",
    "\n",
    "n = 1\n",
    "\n",
    "while T_div(n) <= 500:\n",
    "    n += 1\n",
    "\n",
    "print(n, triangle(n))"
   ]
  },
  {
   "cell_type": "code",
   "execution_count": 3,
   "id": "718effd1-4af9-4b6d-a1eb-008ab81956f3",
   "metadata": {},
   "outputs": [
    {
     "name": "stdout",
     "output_type": "stream",
     "text": [
      "76576500\n"
     ]
    }
   ],
   "source": [
    "# Somebody else's code; Very fast and efficient, apparently\n",
    "\n",
    "from functools import reduce\n",
    "def divisors(n):\n",
    "    expList = []\n",
    "    ctr = 0\n",
    "    divisor = 2\n",
    "    while divisor <= n:\n",
    "        while n % divisor == 0:\n",
    "            n = n/divisor\n",
    "            ctr += 1\n",
    "        if ctr != 0:\n",
    "            expList.append(ctr+1)\n",
    "        divisor += 1\n",
    "        ctr = 0\n",
    "    return reduce(lambda n, y: n * y, expList, 1)\n",
    "\n",
    "\n",
    "def n_divisors(n):\n",
    "    natural = 1\n",
    "    triangular_num = 0\n",
    "\n",
    "    while True:\n",
    "        triangular_num += natural\n",
    "        natural += 1\n",
    "        if divisors(triangular_num) > n:\n",
    "            break\n",
    "    return triangular_num\n",
    "\n",
    "print(n_divisors(500))"
   ]
  }
 ],
 "metadata": {
  "kernelspec": {
   "display_name": "Python 3 (ipykernel)",
   "language": "python",
   "name": "python3"
  },
  "language_info": {
   "codemirror_mode": {
    "name": "ipython",
    "version": 3
   },
   "file_extension": ".py",
   "mimetype": "text/x-python",
   "name": "python",
   "nbconvert_exporter": "python",
   "pygments_lexer": "ipython3",
   "version": "3.10.4"
  }
 },
 "nbformat": 4,
 "nbformat_minor": 5
}
