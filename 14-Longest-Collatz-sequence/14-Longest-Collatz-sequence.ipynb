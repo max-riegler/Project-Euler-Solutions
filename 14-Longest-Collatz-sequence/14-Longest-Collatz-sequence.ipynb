{
 "cells": [
  {
   "cell_type": "code",
   "execution_count": 11,
   "id": "caaf294b-0f75-4fb1-a69f-5cf710553ddb",
   "metadata": {},
   "outputs": [
    {
     "name": "stdout",
     "output_type": "stream",
     "text": [
      "837799 525\n"
     ]
    }
   ],
   "source": [
    "# Brute force algorithm\n",
    "\n",
    "def N_Collatz(n):\n",
    "    counter = 1\n",
    "    while n != 1:\n",
    "        if n % 2 == 0:\n",
    "            n = n // 2\n",
    "        else:\n",
    "            n = 3 * n + 1\n",
    "        counter += 1\n",
    "    return counter\n",
    "\n",
    "chain = 0\n",
    "\n",
    "for i in range(1,10 ** 6):\n",
    "    if N_Collatz(i) > chain:\n",
    "        chain = N_Collatz(i)\n",
    "        num = i\n",
    "\n",
    "print(num, chain)"
   ]
  },
  {
   "cell_type": "code",
   "execution_count": 15,
   "id": "a7cfbee8-cb76-4166-bbb2-4386dc4fc043",
   "metadata": {},
   "outputs": [
    {
     "name": "stdout",
     "output_type": "stream",
     "text": [
      "837799 525\n"
     ]
    }
   ],
   "source": [
    "# Elegant algorithm\n",
    "\n",
    "# Simplifications based on even and odd cases of the Collatz series\n",
    "def N_Collatz(n):\n",
    "    if n in values:\n",
    "        return values[n]\n",
    "    if n % 2 == 0:\n",
    "        values[n] = 1 + N_Collatz(n // 2)\n",
    "    else:\n",
    "        values[n] = 2 + N_Collatz((3 * n + 1) // 2)\n",
    "    return values[n]\n",
    "\n",
    "chain = 0\n",
    "values = {1:1}\n",
    "\n",
    "# Can start from MaxLimit/2 because N_Collatz(2k) > N_Collatz(k)\n",
    "for i in range((10 ** 6) // 2,10 ** 6):\n",
    "    if N_Collatz(i) > chain:\n",
    "        chain = N_Collatz(i)\n",
    "        answer = i\n",
    "\n",
    "print(answer, chain)\n",
    "    "
   ]
  }
 ],
 "metadata": {
  "kernelspec": {
   "display_name": "Python 3 (ipykernel)",
   "language": "python",
   "name": "python3"
  },
  "language_info": {
   "codemirror_mode": {
    "name": "ipython",
    "version": 3
   },
   "file_extension": ".py",
   "mimetype": "text/x-python",
   "name": "python",
   "nbconvert_exporter": "python",
   "pygments_lexer": "ipython3",
   "version": "3.10.4"
  }
 },
 "nbformat": 4,
 "nbformat_minor": 5
}
