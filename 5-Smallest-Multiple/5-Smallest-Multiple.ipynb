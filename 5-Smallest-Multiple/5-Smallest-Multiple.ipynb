{
 "cells": [
  {
   "cell_type": "code",
   "execution_count": 8,
   "id": "3a788a1b-83e9-4640-af83-62d93405734a",
   "metadata": {},
   "outputs": [
    {
     "name": "stdout",
     "output_type": "stream",
     "text": [
      "232792560\n"
     ]
    }
   ],
   "source": [
    "def check(n,i,j):\n",
    "    counter = 0\n",
    "    for k in range(i,j):\n",
    "        if n % k == 0:\n",
    "            counter += 1\n",
    "    if counter == j-1:\n",
    "        return True\n",
    "    else:\n",
    "        return False\n",
    "\n",
    "num = 20    \n",
    "\n",
    "while check(num,1,20) == False:\n",
    "    num += 20\n",
    "\n",
    "print(num)    "
   ]
  }
 ],
 "metadata": {
  "kernelspec": {
   "display_name": "Python 3 (ipykernel)",
   "language": "python",
   "name": "python3"
  },
  "language_info": {
   "codemirror_mode": {
    "name": "ipython",
    "version": 3
   },
   "file_extension": ".py",
   "mimetype": "text/x-python",
   "name": "python",
   "nbconvert_exporter": "python",
   "pygments_lexer": "ipython3",
   "version": "3.10.4"
  }
 },
 "nbformat": 4,
 "nbformat_minor": 5
}
